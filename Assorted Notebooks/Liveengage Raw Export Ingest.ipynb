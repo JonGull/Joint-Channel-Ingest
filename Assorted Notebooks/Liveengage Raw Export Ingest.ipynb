{
 "metadata": {
  "language_info": {
   "codemirror_mode": {
    "name": "ipython",
    "version": 3
   },
   "file_extension": ".py",
   "mimetype": "text/x-python",
   "name": "python",
   "nbconvert_exporter": "python",
   "pygments_lexer": "ipython3",
   "version": "3.8.3"
  },
  "orig_nbformat": 4,
  "kernelspec": {
   "name": "python3",
   "display_name": "Python 3.8.3 64-bit ('venv': venv)"
  },
  "interpreter": {
   "hash": "cab7bfe12d3bddcecdf1adadffe595ae2362a968aa30b7cac1e46ce62df3564f"
  }
 },
 "nbformat": 4,
 "nbformat_minor": 2,
 "cells": [
  {
   "cell_type": "code",
   "execution_count": 1,
   "metadata": {},
   "outputs": [
    {
     "output_type": "stream",
     "name": "stderr",
     "text": [
      "c:\\Users\\jonathan.li\\Desktop\\Chat Ingest\\venv\\lib\\site-packages\\fuzzywuzzy\\fuzz.py:11: UserWarning: Using slow pure-python SequenceMatcher. Install python-Levenshtein to remove this warning\n  warnings.warn('Using slow pure-python SequenceMatcher. Install python-Levenshtein to remove this warning')\n"
     ]
    }
   ],
   "source": [
    "import pandas as pd\n",
    "import json\n",
    "import _load_utils\n",
    "import _sql_access_utils\n",
    "from fuzzywuzzy import fuzz\n",
    "#df = pd.read_csv('may-2021-export.csv', skiprows=8)\n",
    "#print(df.size)"
   ]
  },
  {
   "cell_type": "code",
   "execution_count": 3,
   "metadata": {},
   "outputs": [
    {
     "output_type": "stream",
     "name": "stdout",
     "text": [
      "21218\n21218\n"
     ]
    }
   ],
   "source": [
    "# Get all files in our folder\n",
    "\n",
    "from os import listdir\n",
    "from os.path import isfile, join\n",
    "path_to_folder = 'Ingests/'\n",
    "path_to_file = [f for f in listdir(path_to_folder) if isfile(join(path_to_folder, f))]\n",
    "\n",
    "csv_df = pd.DataFrame(columns=['pk_id','Start (UTC)', 'Visitor ID', 'Visitor Name', 'MCS',  'Skill', 'Engagement ID',\n",
    "       'Agent Name', 'Agent Login Name', 'Agent Full Name', 'Agent Group',\n",
    "       'Chat Start Reason', 'Chat End Reason', 'Chat Requested Time (UTC)',\n",
    "       'Length (seconds)', 'Campaign',\n",
    "       'Target Audience', 'Engagement Name', 'Country',\n",
    "       'State', 'City', 'ISP', 'Organization', 'IP Address', 'Device',\n",
    "       'Browser', 'Operating System', 'Chat Start Page', 'Chat Start URL', 'Pre-Chat Survey Exists', 'Post-Chat Survey Exists'\n",
    "])\n",
    "\n",
    "for path in path_to_file:\n",
    "    tmp_csv_df = pd.read_csv(path_to_folder + path, skiprows=8)\n",
    "    tmp_csv_df['Start (UTC)'] = pd.to_datetime(tmp_csv_df['Start (UTC)']).values.astype('<M8[ns]')\n",
    "    tmp_csv_df['Chat Requested Time (UTC)'] = pd.to_datetime(tmp_csv_df['Chat Requested Time (UTC)']).values.astype('<M8[ns]')\n",
    "    tmp_csv_df.insert(0,'pk_id','')\n",
    "    print(len(tmp_csv_df))\n",
    "    csv_df = csv_df.append(tmp_csv_df)\n",
    "    print(len(csv_df))\n",
    "\n",
    "main_ingest = csv_df[['pk_id','Start (UTC)', 'Visitor ID', 'Visitor Name', 'MCS',  'Skill', 'Engagement ID',\n",
    "       'Agent Name', 'Agent Login Name', 'Agent Full Name', 'Agent Group',\n",
    "       'Chat Start Reason', 'Chat End Reason', 'Chat Requested Time (UTC)',\n",
    "       'Length (seconds)', 'Campaign',\n",
    "       'Target Audience', 'Engagement Name', 'Country',\n",
    "       'State', 'City', 'ISP', 'Organization', 'IP Address', 'Device',\n",
    "       'Browser', 'Operating System', 'Chat Start Page', 'Chat Start URL', 'Pre-Chat Survey Exists', 'Post-Chat Survey Exists'\n",
    "]]\n",
    "\n",
    "main_ingest.to_csv('./Ingests/Outputs/converted_ingest.tsv', index=False, sep='\\t')"
   ]
  },
  {
   "cell_type": "code",
   "execution_count": 41,
   "metadata": {},
   "outputs": [],
   "source": [
    "main_ingest = csv_df[['pk_id','Start (UTC)', 'Visitor ID', 'Visitor Name', 'MCS',  'Skill', 'Engagement ID',\n",
    "       'Agent Name', 'Agent Login Name', 'Agent Full Name', 'Agent Group',\n",
    "       'Chat Start Reason', 'Chat End Reason', 'Chat Requested Time (UTC)',\n",
    "       'Length (seconds)', 'Campaign',\n",
    "       'Target Audience', 'Engagement Name', 'Country',\n",
    "       'State', 'City', 'ISP', 'Organization', 'IP Address', 'Device',\n",
    "       'Browser', 'Operating System', 'Chat Start Page', 'Chat Start URL', 'Pre-Chat Survey Exists', 'Post-Chat Survey Exists'\n",
    "]]\n",
    "\n",
    "transcript_ingest = csv_df[['Start (UTC)', 'Visitor ID', 'Skill', 'Engagement ID', 'Chat Start URL', 'Transcript']]\n",
    "\n",
    "survey_ingest = csv_df[['Start (UTC)', 'Visitor ID', 'Skill', 'Engagement ID', 'Pre-Chat Survey Exists', 'Post-Chat Survey Exists', 'Pre-Chat Survey - Consumer trading standards - Please enter your name, the answers you give will be shown to the adviser.  Citizens Advice will keep a copy of your details and chat (<a href=\"https://www.citizensadvice.org.uk/about-us/citizens-advice-privacy-policy/when-you-get-advice-from-an-adviser/\" title=\"view our privacy policy\"target=\"_blank\">view our privacy policy</a>)',\n",
    " 'Pre-Chat Survey - Consumer trading standards - Please provide your home postcode if you have one',\n",
    " 'Pre-Chat Survey - Consumer trading standards - Phone Number',\n",
    " 'Pre-Chat Survey - Consumer trading standards - What is the nature of your inquiry?',\n",
    " 'Pre-Chat Survey - Consumer trading standards - \\r\\nPlease provide your home postcode if you have one',\n",
    " 'Pre-Chat Survey - Consumer trading standards - Are you accessing this service from outside England or Wales? ',\n",
    " 'Pre-Chat Survey - Consumer trading standards - If you have used the Consumer service before and have a reference number please enter it here',\n",
    " 'Pre-Chat Survey - Debt pre chat survey - What would you like to chat to us about?',\n",
    " 'Pre-Chat Survey - Debt pre chat survey - Please provide your home postcode if you have one',\n",
    " 'Pre-Chat Survey - Debt pre chat survey - Phone Number',\n",
    " 'Pre-Chat Survey - Debt pre chat survey - What would you like to chat to us about?.1',\n",
    " 'Pre-Chat Survey - Debt pre chat survey - Your name',\n",
    " 'Pre-Chat Survey - Debt pre chat survey - New question',\n",
    " 'Pre-Chat Survey - Debt pre chat survey - New question.1',\n",
    " 'Pre-Chat Survey - Debt pre chat survey - First part of your postcode (eg WD23)',\n",
    " 'Pre-Chat Survey - Debt pre chat survey - New question.2',\n",
    " 'Pre-Chat Survey - General training - What would you like to chat to us about?',\n",
    " 'Pre-Chat Survey - General training - Email Address',\n",
    " 'Pre-Chat Survey - General training - Please provide your home postcode if you have one',\n",
    " 'Pre-Chat Survey - General training - Please provide your home postcode if you have one.1',\n",
    " 'Pre-Chat Survey - General training - New question',\n",
    " 'Pre-Chat Survey - General training - Please enter your name, the answers you give will be shown to the adviser.  Citizens Advice will keep a copy of your details and chat (<a href=\"https://www.citizensadvice.org.uk/about-us/citizens-advice-privacy-policy/when-you-get-advice-from-an-adviser/\" title=\"view our privacy policy\"target=\"_blank\">view our privacy policy</a>)',\n",
    " 'Pre-Chat Survey - NI Debt Chat - What would you like to chat to us about?',\n",
    " 'Pre-Chat Survey - NI Debt Chat - Email Address',\n",
    " 'Pre-Chat Survey - NI Debt Chat - Phone Number',\n",
    " 'Pre-Chat Survey - NI Debt Chat - What is the nature of your inquiry?',\n",
    " 'Pre-Chat Survey - NI Debt Chat - Your name',\n",
    " 'Pre-Chat Survey - NI Debt Chat - Your postcode',\n",
    " 'Pre-Chat Survey - NI Debt Chat - New question',\n",
    " 'Pre-Chat Survey - NI Debt Chat - Please enter your name, the answers you give will be shown to the adviser (<a href=\"https://www.citizensadvice.org.uk/about-us/citizens-advice-privacy-policy/when-you-get-advice-from-an-adviser/\" title=\"view our privacy policy\"target=\"_blank\">view our privacy policy</a>)',\n",
    " 'Pre-Chat Survey - Pre-chat survey - What is your name?',\n",
    " 'Pre-Chat Survey - Pre-chat survey - Email Address',\n",
    " 'Pre-Chat Survey - Pre-chat survey - Phone Number',\n",
    " 'Pre-Chat Survey - Pre-chat survey - What would you like to chat with us about?',\n",
    " 'Pre-Chat Survey - Pre-chat survey - What is the nature of your inquiry?',\n",
    " 'Pre-Chat Survey - Pre-chat survey - New question',\n",
    " 'Pre-Chat Survey - Pre-chat survey - Please provide your home postcode if you have one',\n",
    " 'Pre-Chat Survey - Pre-chat survey - New question.1',\n",
    " 'Pre-Chat Survey - Pre-chat survey - What is the nature of your inquiry?.1',\n",
    " 'Pre-Chat Survey - Pre-chat survey - New question.2',\n",
    " 'Pre-Chat Survey - Pre-chat survey CitA - What do you need advice about?',\n",
    " 'Pre-Chat Survey - Pre-chat survey CitA - Email Address',\n",
    " 'Pre-Chat Survey - Pre-chat survey CitA - Phone Number',\n",
    " 'Pre-Chat Survey - Pre-chat survey CitA - New question',\n",
    " 'Pre-Chat Survey - Pre-chat survey CitA - New question.1',\n",
    " 'Pre-Chat Survey - Pre-chat survey CitA - What would you like to chat to us about?',\n",
    " 'Pre-Chat Survey - Pre-chat survey CitA - New question.2',\n",
    " 'Pre-Chat Survey - Pre-chat survey CitA - What is your postcode?',\n",
    " 'Pre-Chat Survey - Pre-chat survey CitA - We need your explicit consent to keep some information, known as special category data. This includes things like your ethnicity, religion, health conditions and sexual orientation. For full details of how we collect and use your data read our privacy policy. Do you consent to us using and storing any special category data you have provided in this form?',\n",
    " 'Pre-Chat Survey - Pre-chat survey CitA - New question.3',\n",
    " 'Pre-Chat Survey - Pre-chat survey CitA - New question.4',\n",
    " 'Pre-Chat Survey - Pre-chat survey CitA - <a href=\"https://www.citizensadvice.org.uk/about-us/citizens-advice-privacy-policy/when-you-get-advice-from-an-adviser/\">our Privacy Policy</a>n',\n",
    " 'Pre-Chat Survey - Pre-chat survey CitA - New question.5',\n",
    " 'Pre-Chat Survey - Pre-chat survey CitA - New question.6',\n",
    " 'Pre-Chat Survey - Pre-chat survey CitA - Is this an example question?',\n",
    " 'Pre-Chat Survey - Pre-chat survey CitA - What do you need advice about?.1',\n",
    " 'Pre-Chat Survey - Pre-chat survey CitA - New question.7',\n",
    " 'Pre-Chat Survey - Pre-chat survey CitA - Your name',\n",
    " 'Pre-Chat Survey - Pre-chat survey CitA - New question.8',\n",
    " 'Pre-Chat Survey - Pre-chat survey CitA - New question.9',\n",
    " 'Pre-Chat Survey - Pre-chat survey CitA - Your postcode',\n",
    " 'Pre-Chat Survey - Pre-chat survey CitA - New question.10',\n",
    " 'Pre-Chat Survey - Scams pre-chat survey - Please enter your name, the answers you give will be shown to the adviser.  Citizens Advice will keep a copy of your details and chat (<a href=\"https://www.citizensadvice.org.uk/about-us/citizens-advice-privacy-policy/when-you-get-advice-from-an-adviser/\" title=\"view our privacy policy\"target=\"_blank\">view our privacy policy</a>)',\n",
    " 'Pre-Chat Survey - Scams pre-chat survey - Please provide your home postcode if you have one\\r\\n',\n",
    " 'Pre-Chat Survey - Scams pre-chat survey - Please provide your home postcode if you have one\\r\\n.1',\n",
    " 'Pre-Chat Survey - Scams pre-chat survey - What is the nature of your inquiry?',\n",
    " 'Pre-Chat Survey - Scams pre-chat survey - If you have used the Consumer scams service before and have a reference number please enter it here',\n",
    " 'Pre-Chat Survey - Scams pre-chat survey - Are you contacting us about an online scam?',\n",
    " 'Pre-Chat Survey - Universal Support - Your name',\n",
    " 'Pre-Chat Survey - Universal Support - Please provide you home postcode if you have one',\n",
    " 'Pre-Chat Survey - Universal Support - Postcode',\n",
    " 'Pre-Chat Survey - Universal Support - What is the nature of your inquiry?',\n",
    " 'Pre-Chat Survey - Universal Support - New question',\n",
    " 'Pre-Chat Survey - Universal Support - Your postcode',\n",
    " 'Pre-Chat Survey - Universal Support - New question.1',\n",
    " 'Pre-Chat Survey - Universal Support - Have you started your Universal Credit claim yet?',\n",
    " 'Exit Survey - Consumer - Would you use this service again?',\n",
    " 'Exit Survey - Consumer - If yes, please provide your email:',\n",
    " 'Exit Survey - Consumer - Phone Number',\n",
    " 'Exit Survey - Consumer - Overall, how satisfied were you with the service you received on your most recent contact with [insert Company name here]?',\n",
    " 'Exit Survey - Consumer - How satisfied were you with the expertise and knowledge of the agent?',\n",
    " 'Exit Survey - Consumer - Based on your experience today, how likely are you to refer us to friends or family?',\n",
    " 'Exit Survey - Consumer - Based on your experience today, how likely are you to [shop/bank/xxx] with us again?',\n",
    " 'Exit Survey - Consumer - Was the issue you contacted us about resolved during this engagement?',\n",
    " 'Exit Survey - Consumer - New question',\n",
    " 'Exit Survey - Consumer CSAT survey - Would you use this service again if you needed to?',\n",
    " 'Exit Survey - Consumer CSAT survey - How would you rate your satisfaction with the overall service that you have received during this chat?',\n",
    " 'Exit Survey - Consumer CSAT survey - Phone Number',\n",
    " 'Exit Survey - Consumer CSAT survey - How would you rate your satisfaction with the overall service that you have received during this chat?.1',\n",
    " 'Exit Survey - Consumer CSAT survey - How satisfied were you with the expertise and knowledge of the agent?',\n",
    " 'Exit Survey - Consumer CSAT survey - Based on your experience today, how likely are you to refer us to friends or family?',\n",
    " 'Exit Survey - Consumer CSAT survey - Based on your experience today, how likely are you to [shop/bank/xxx] with us again?',\n",
    " 'Exit Survey - Consumer CSAT survey - Was the issue you contacted us about resolved during this engagement?',\n",
    " 'Exit Survey - Consumer CSAT survey - Would you use this service again if you needed to?.1',\n",
    " 'Exit Survey - Consumer CSAT survey - How would you rate your satisfaction with the overall service that you have received during this chat?.2',\n",
    " 'Exit Survey - Consumer CSAT survey - If you were NOT satisfied with this chat, why was this? (this answer is optional)',\n",
    " 'Exit Survey - Post-chat survey - Please rate your overall experience of the service:',\n",
    " 'Exit Survey - Post-chat survey - Rate your overall experience',\n",
    " 'Exit Survey - Post-chat survey - Phone Number',\n",
    " 'Exit Survey - Post-chat survey - New question',\n",
    " 'Exit Survey - Post-chat survey - How satisfied were you with the expertise and knowledge of the agent?',\n",
    " 'Exit Survey - Post-chat survey - Based on your experience today, how likely are you to refer us to friends or family?',\n",
    " 'Exit Survey - Post-chat survey - Based on your experience today, how likely are you to [shop/bank/xxx] with us again?',\n",
    " 'Exit Survey - Post-chat survey - Was the issue you contacted us about resolved during this engagement?',\n",
    " 'Exit Survey - Post-chat survey - How easy or difficult was it to use the chat service?',\n",
    " 'Exit Survey - Post-chat survey - New question.1',\n",
    " 'Exit Survey - Post-chat survey - Did the chat service help you find a way forward?',\n",
    " 'Exit Survey - Post-chat survey - Is your problem now resolved?',\n",
    " 'Exit Survey - Post-chat survey - Would you recommend this service to friends or family?']\n",
    "]"
   ]
  },
  {
   "cell_type": "code",
   "execution_count": 40,
   "metadata": {},
   "outputs": [],
   "source": [
    "csv_df = pd.read_csv('may-2021-export.csv', skiprows=8)\n",
    "csv_df['Start (UTC)'] = pd.to_datetime(csv_df['Start (UTC)']).values.astype('<M8[ns]')\n",
    "csv_df['Chat Requested Time (UTC)'] = pd.to_datetime(csv_df['Chat Requested Time (UTC)']).values.astype('<M8[ns]')\n",
    "csv_df.insert(0,'pk_id','')\n"
   ]
  },
  {
   "cell_type": "code",
   "execution_count": 42,
   "metadata": {},
   "outputs": [
    {
     "output_type": "execute_result",
     "data": {
      "text/plain": [
       "0       2021-05-31 13:36:08.708\n",
       "1       2021-05-28 17:09:39.202\n",
       "2       2021-05-28 16:48:08.322\n",
       "3       2021-05-28 16:47:20.798\n",
       "4       2021-05-28 16:25:13.367\n",
       "                  ...          \n",
       "19757   2021-05-04 07:04:37.995\n",
       "19758   2021-05-04 06:39:25.347\n",
       "19759   2021-05-04 06:21:15.387\n",
       "19760   2021-05-04 06:15:01.807\n",
       "19761   2021-05-04 06:10:20.432\n",
       "Name: Start (UTC), Length: 19762, dtype: datetime64[ns]"
      ]
     },
     "metadata": {},
     "execution_count": 42
    }
   ],
   "source": [
    "main_ingest.to_csv('main_ingest_may.csv', index=False, sep='\\t')\n",
    "main_ingest['Start (UTC)']"
   ]
  },
  {
   "cell_type": "code",
   "execution_count": 43,
   "metadata": {},
   "outputs": [
    {
     "output_type": "execute_result",
     "data": {
      "text/plain": [
       "19762"
      ]
     },
     "metadata": {},
     "execution_count": 43
    }
   ],
   "source": [
    "len(main_ingest)"
   ]
  },
  {
   "cell_type": "code",
   "execution_count": 23,
   "metadata": {},
   "outputs": [
    {
     "output_type": "error",
     "ename": "DatabaseError",
     "evalue": "Execution failed on sql 'SELECT name FROM sqlite_master WHERE type='table' AND name=?;': ('42S02', \"[42S02] [Microsoft][ODBC SQL Server Driver][SQL Server]Invalid object name 'sqlite_master'. (208) (SQLExecDirectW); [42S02] [Microsoft][ODBC SQL Server Driver][SQL Server]Statement(s) could not be prepared. (8180)\")",
     "traceback": [
      "\u001b[1;31m---------------------------------------------------------------------------\u001b[0m",
      "\u001b[1;31mProgrammingError\u001b[0m                          Traceback (most recent call last)",
      "\u001b[1;32mc:\\Users\\jonathan.li\\Desktop\\Chat Ingest\\venv\\lib\\site-packages\\pandas\\io\\sql.py\u001b[0m in \u001b[0;36mexecute\u001b[1;34m(self, *args, **kwargs)\u001b[0m\n\u001b[0;32m   1724\u001b[0m         \u001b[1;32mtry\u001b[0m\u001b[1;33m:\u001b[0m\u001b[1;33m\u001b[0m\u001b[1;33m\u001b[0m\u001b[0m\n\u001b[1;32m-> 1725\u001b[1;33m             \u001b[0mcur\u001b[0m\u001b[1;33m.\u001b[0m\u001b[0mexecute\u001b[0m\u001b[1;33m(\u001b[0m\u001b[1;33m*\u001b[0m\u001b[0margs\u001b[0m\u001b[1;33m,\u001b[0m \u001b[1;33m**\u001b[0m\u001b[0mkwargs\u001b[0m\u001b[1;33m)\u001b[0m\u001b[1;33m\u001b[0m\u001b[1;33m\u001b[0m\u001b[0m\n\u001b[0m\u001b[0;32m   1726\u001b[0m             \u001b[1;32mreturn\u001b[0m \u001b[0mcur\u001b[0m\u001b[1;33m\u001b[0m\u001b[1;33m\u001b[0m\u001b[0m\n",
      "\u001b[1;31mProgrammingError\u001b[0m: ('42S02', \"[42S02] [Microsoft][ODBC SQL Server Driver][SQL Server]Invalid object name 'sqlite_master'. (208) (SQLExecDirectW); [42S02] [Microsoft][ODBC SQL Server Driver][SQL Server]Statement(s) could not be prepared. (8180)\")",
      "\nThe above exception was the direct cause of the following exception:\n",
      "\u001b[1;31mDatabaseError\u001b[0m                             Traceback (most recent call last)",
      "\u001b[1;32m<ipython-input-23-f81c7ea6f7ad>\u001b[0m in \u001b[0;36m<module>\u001b[1;34m\u001b[0m\n\u001b[0;32m      1\u001b[0m \u001b[0mconn\u001b[0m\u001b[1;33m,\u001b[0m \u001b[0mcursor\u001b[0m \u001b[1;33m=\u001b[0m \u001b[0m_sql_access_utils\u001b[0m\u001b[1;33m.\u001b[0m\u001b[0m_get_kcom_conn_and_cursor\u001b[0m\u001b[1;33m(\u001b[0m\u001b[0mdatabase\u001b[0m \u001b[1;33m=\u001b[0m \u001b[1;34m'liveengage_chat_data'\u001b[0m\u001b[1;33m)\u001b[0m\u001b[1;33m\u001b[0m\u001b[1;33m\u001b[0m\u001b[0m\n\u001b[0;32m      2\u001b[0m \u001b[1;33m\u001b[0m\u001b[0m\n\u001b[1;32m----> 3\u001b[1;33m \u001b[0mmain_ingest\u001b[0m\u001b[1;33m.\u001b[0m\u001b[0mto_sql\u001b[0m\u001b[1;33m(\u001b[0m\u001b[1;34m'dbo.fact_chat_data'\u001b[0m\u001b[1;33m,\u001b[0m \u001b[0mconn\u001b[0m\u001b[1;33m,\u001b[0m \u001b[0mindex\u001b[0m\u001b[1;33m=\u001b[0m\u001b[1;32mFalse\u001b[0m\u001b[1;33m)\u001b[0m\u001b[1;33m\u001b[0m\u001b[1;33m\u001b[0m\u001b[0m\n\u001b[0m\u001b[0;32m      4\u001b[0m \u001b[1;33m\u001b[0m\u001b[0m\n\u001b[0;32m      5\u001b[0m \u001b[0m_sql_access_utils\u001b[0m\u001b[1;33m.\u001b[0m\u001b[0m_close_kcom_conn_and_cursor\u001b[0m\u001b[1;33m(\u001b[0m\u001b[0mconn\u001b[0m\u001b[1;33m,\u001b[0m \u001b[0mcursor\u001b[0m\u001b[1;33m)\u001b[0m\u001b[1;33m\u001b[0m\u001b[1;33m\u001b[0m\u001b[0m\n",
      "\u001b[1;32mc:\\Users\\jonathan.li\\Desktop\\Chat Ingest\\venv\\lib\\site-packages\\pandas\\core\\generic.py\u001b[0m in \u001b[0;36mto_sql\u001b[1;34m(self, name, con, schema, if_exists, index, index_label, chunksize, dtype, method)\u001b[0m\n\u001b[0;32m   2777\u001b[0m         \u001b[1;32mfrom\u001b[0m \u001b[0mpandas\u001b[0m\u001b[1;33m.\u001b[0m\u001b[0mio\u001b[0m \u001b[1;32mimport\u001b[0m \u001b[0msql\u001b[0m\u001b[1;33m\u001b[0m\u001b[1;33m\u001b[0m\u001b[0m\n\u001b[0;32m   2778\u001b[0m \u001b[1;33m\u001b[0m\u001b[0m\n\u001b[1;32m-> 2779\u001b[1;33m         sql.to_sql(\n\u001b[0m\u001b[0;32m   2780\u001b[0m             \u001b[0mself\u001b[0m\u001b[1;33m,\u001b[0m\u001b[1;33m\u001b[0m\u001b[1;33m\u001b[0m\u001b[0m\n\u001b[0;32m   2781\u001b[0m             \u001b[0mname\u001b[0m\u001b[1;33m,\u001b[0m\u001b[1;33m\u001b[0m\u001b[1;33m\u001b[0m\u001b[0m\n",
      "\u001b[1;32mc:\\Users\\jonathan.li\\Desktop\\Chat Ingest\\venv\\lib\\site-packages\\pandas\\io\\sql.py\u001b[0m in \u001b[0;36mto_sql\u001b[1;34m(frame, name, con, schema, if_exists, index, index_label, chunksize, dtype, method)\u001b[0m\n\u001b[0;32m    599\u001b[0m         )\n\u001b[0;32m    600\u001b[0m \u001b[1;33m\u001b[0m\u001b[0m\n\u001b[1;32m--> 601\u001b[1;33m     pandas_sql.to_sql(\n\u001b[0m\u001b[0;32m    602\u001b[0m         \u001b[0mframe\u001b[0m\u001b[1;33m,\u001b[0m\u001b[1;33m\u001b[0m\u001b[1;33m\u001b[0m\u001b[0m\n\u001b[0;32m    603\u001b[0m         \u001b[0mname\u001b[0m\u001b[1;33m,\u001b[0m\u001b[1;33m\u001b[0m\u001b[1;33m\u001b[0m\u001b[0m\n",
      "\u001b[1;32mc:\\Users\\jonathan.li\\Desktop\\Chat Ingest\\venv\\lib\\site-packages\\pandas\\io\\sql.py\u001b[0m in \u001b[0;36mto_sql\u001b[1;34m(self, frame, name, if_exists, index, index_label, schema, chunksize, dtype, method)\u001b[0m\n\u001b[0;32m   1869\u001b[0m             \u001b[0mdtype\u001b[0m\u001b[1;33m=\u001b[0m\u001b[0mdtype\u001b[0m\u001b[1;33m,\u001b[0m\u001b[1;33m\u001b[0m\u001b[1;33m\u001b[0m\u001b[0m\n\u001b[0;32m   1870\u001b[0m         )\n\u001b[1;32m-> 1871\u001b[1;33m         \u001b[0mtable\u001b[0m\u001b[1;33m.\u001b[0m\u001b[0mcreate\u001b[0m\u001b[1;33m(\u001b[0m\u001b[1;33m)\u001b[0m\u001b[1;33m\u001b[0m\u001b[1;33m\u001b[0m\u001b[0m\n\u001b[0m\u001b[0;32m   1872\u001b[0m         \u001b[0mtable\u001b[0m\u001b[1;33m.\u001b[0m\u001b[0minsert\u001b[0m\u001b[1;33m(\u001b[0m\u001b[0mchunksize\u001b[0m\u001b[1;33m,\u001b[0m \u001b[0mmethod\u001b[0m\u001b[1;33m)\u001b[0m\u001b[1;33m\u001b[0m\u001b[1;33m\u001b[0m\u001b[0m\n\u001b[0;32m   1873\u001b[0m \u001b[1;33m\u001b[0m\u001b[0m\n",
      "\u001b[1;32mc:\\Users\\jonathan.li\\Desktop\\Chat Ingest\\venv\\lib\\site-packages\\pandas\\io\\sql.py\u001b[0m in \u001b[0;36mcreate\u001b[1;34m(self)\u001b[0m\n\u001b[0;32m    734\u001b[0m \u001b[1;33m\u001b[0m\u001b[0m\n\u001b[0;32m    735\u001b[0m     \u001b[1;32mdef\u001b[0m \u001b[0mcreate\u001b[0m\u001b[1;33m(\u001b[0m\u001b[0mself\u001b[0m\u001b[1;33m)\u001b[0m\u001b[1;33m:\u001b[0m\u001b[1;33m\u001b[0m\u001b[1;33m\u001b[0m\u001b[0m\n\u001b[1;32m--> 736\u001b[1;33m         \u001b[1;32mif\u001b[0m \u001b[0mself\u001b[0m\u001b[1;33m.\u001b[0m\u001b[0mexists\u001b[0m\u001b[1;33m(\u001b[0m\u001b[1;33m)\u001b[0m\u001b[1;33m:\u001b[0m\u001b[1;33m\u001b[0m\u001b[1;33m\u001b[0m\u001b[0m\n\u001b[0m\u001b[0;32m    737\u001b[0m             \u001b[1;32mif\u001b[0m \u001b[0mself\u001b[0m\u001b[1;33m.\u001b[0m\u001b[0mif_exists\u001b[0m \u001b[1;33m==\u001b[0m \u001b[1;34m\"fail\"\u001b[0m\u001b[1;33m:\u001b[0m\u001b[1;33m\u001b[0m\u001b[1;33m\u001b[0m\u001b[0m\n\u001b[0;32m    738\u001b[0m                 \u001b[1;32mraise\u001b[0m \u001b[0mValueError\u001b[0m\u001b[1;33m(\u001b[0m\u001b[1;34mf\"Table '{self.name}' already exists.\"\u001b[0m\u001b[1;33m)\u001b[0m\u001b[1;33m\u001b[0m\u001b[1;33m\u001b[0m\u001b[0m\n",
      "\u001b[1;32mc:\\Users\\jonathan.li\\Desktop\\Chat Ingest\\venv\\lib\\site-packages\\pandas\\io\\sql.py\u001b[0m in \u001b[0;36mexists\u001b[1;34m(self)\u001b[0m\n\u001b[0;32m    718\u001b[0m \u001b[1;33m\u001b[0m\u001b[0m\n\u001b[0;32m    719\u001b[0m     \u001b[1;32mdef\u001b[0m \u001b[0mexists\u001b[0m\u001b[1;33m(\u001b[0m\u001b[0mself\u001b[0m\u001b[1;33m)\u001b[0m\u001b[1;33m:\u001b[0m\u001b[1;33m\u001b[0m\u001b[1;33m\u001b[0m\u001b[0m\n\u001b[1;32m--> 720\u001b[1;33m         \u001b[1;32mreturn\u001b[0m \u001b[0mself\u001b[0m\u001b[1;33m.\u001b[0m\u001b[0mpd_sql\u001b[0m\u001b[1;33m.\u001b[0m\u001b[0mhas_table\u001b[0m\u001b[1;33m(\u001b[0m\u001b[0mself\u001b[0m\u001b[1;33m.\u001b[0m\u001b[0mname\u001b[0m\u001b[1;33m,\u001b[0m \u001b[0mself\u001b[0m\u001b[1;33m.\u001b[0m\u001b[0mschema\u001b[0m\u001b[1;33m)\u001b[0m\u001b[1;33m\u001b[0m\u001b[1;33m\u001b[0m\u001b[0m\n\u001b[0m\u001b[0;32m    721\u001b[0m \u001b[1;33m\u001b[0m\u001b[0m\n\u001b[0;32m    722\u001b[0m     \u001b[1;32mdef\u001b[0m \u001b[0msql_schema\u001b[0m\u001b[1;33m(\u001b[0m\u001b[0mself\u001b[0m\u001b[1;33m)\u001b[0m\u001b[1;33m:\u001b[0m\u001b[1;33m\u001b[0m\u001b[1;33m\u001b[0m\u001b[0m\n",
      "\u001b[1;32mc:\\Users\\jonathan.li\\Desktop\\Chat Ingest\\venv\\lib\\site-packages\\pandas\\io\\sql.py\u001b[0m in \u001b[0;36mhas_table\u001b[1;34m(self, name, schema)\u001b[0m\n\u001b[0;32m   1880\u001b[0m         \u001b[0mquery\u001b[0m \u001b[1;33m=\u001b[0m \u001b[1;34mf\"SELECT name FROM sqlite_master WHERE type='table' AND name={wld};\"\u001b[0m\u001b[1;33m\u001b[0m\u001b[1;33m\u001b[0m\u001b[0m\n\u001b[0;32m   1881\u001b[0m \u001b[1;33m\u001b[0m\u001b[0m\n\u001b[1;32m-> 1882\u001b[1;33m         \u001b[1;32mreturn\u001b[0m \u001b[0mlen\u001b[0m\u001b[1;33m(\u001b[0m\u001b[0mself\u001b[0m\u001b[1;33m.\u001b[0m\u001b[0mexecute\u001b[0m\u001b[1;33m(\u001b[0m\u001b[0mquery\u001b[0m\u001b[1;33m,\u001b[0m \u001b[1;33m[\u001b[0m\u001b[0mname\u001b[0m\u001b[1;33m]\u001b[0m\u001b[1;33m)\u001b[0m\u001b[1;33m.\u001b[0m\u001b[0mfetchall\u001b[0m\u001b[1;33m(\u001b[0m\u001b[1;33m)\u001b[0m\u001b[1;33m)\u001b[0m \u001b[1;33m>\u001b[0m \u001b[1;36m0\u001b[0m\u001b[1;33m\u001b[0m\u001b[1;33m\u001b[0m\u001b[0m\n\u001b[0m\u001b[0;32m   1883\u001b[0m \u001b[1;33m\u001b[0m\u001b[0m\n\u001b[0;32m   1884\u001b[0m     \u001b[1;32mdef\u001b[0m \u001b[0mget_table\u001b[0m\u001b[1;33m(\u001b[0m\u001b[0mself\u001b[0m\u001b[1;33m,\u001b[0m \u001b[0mtable_name\u001b[0m\u001b[1;33m,\u001b[0m \u001b[0mschema\u001b[0m\u001b[1;33m=\u001b[0m\u001b[1;32mNone\u001b[0m\u001b[1;33m)\u001b[0m\u001b[1;33m:\u001b[0m\u001b[1;33m\u001b[0m\u001b[1;33m\u001b[0m\u001b[0m\n",
      "\u001b[1;32mc:\\Users\\jonathan.li\\Desktop\\Chat Ingest\\venv\\lib\\site-packages\\pandas\\io\\sql.py\u001b[0m in \u001b[0;36mexecute\u001b[1;34m(self, *args, **kwargs)\u001b[0m\n\u001b[0;32m   1735\u001b[0m \u001b[1;33m\u001b[0m\u001b[0m\n\u001b[0;32m   1736\u001b[0m             \u001b[0mex\u001b[0m \u001b[1;33m=\u001b[0m \u001b[0mDatabaseError\u001b[0m\u001b[1;33m(\u001b[0m\u001b[1;34mf\"Execution failed on sql '{args[0]}': {exc}\"\u001b[0m\u001b[1;33m)\u001b[0m\u001b[1;33m\u001b[0m\u001b[1;33m\u001b[0m\u001b[0m\n\u001b[1;32m-> 1737\u001b[1;33m             \u001b[1;32mraise\u001b[0m \u001b[0mex\u001b[0m \u001b[1;32mfrom\u001b[0m \u001b[0mexc\u001b[0m\u001b[1;33m\u001b[0m\u001b[1;33m\u001b[0m\u001b[0m\n\u001b[0m\u001b[0;32m   1738\u001b[0m \u001b[1;33m\u001b[0m\u001b[0m\n\u001b[0;32m   1739\u001b[0m     \u001b[1;33m@\u001b[0m\u001b[0mstaticmethod\u001b[0m\u001b[1;33m\u001b[0m\u001b[1;33m\u001b[0m\u001b[0m\n",
      "\u001b[1;31mDatabaseError\u001b[0m: Execution failed on sql 'SELECT name FROM sqlite_master WHERE type='table' AND name=?;': ('42S02', \"[42S02] [Microsoft][ODBC SQL Server Driver][SQL Server]Invalid object name 'sqlite_master'. (208) (SQLExecDirectW); [42S02] [Microsoft][ODBC SQL Server Driver][SQL Server]Statement(s) could not be prepared. (8180)\")"
     ]
    }
   ],
   "source": [
    "conn, cursor = _sql_access_utils._get_kcom_conn_and_cursor(database = 'liveengage_chat_data')\n",
    "\n",
    "main_ingest.to_sql('dbo.fact_chat_data', conn, index=False)\n",
    "\n",
    "_sql_access_utils._close_kcom_conn_and_cursor(conn, cursor)\n"
   ]
  },
  {
   "cell_type": "code",
   "execution_count": 10,
   "metadata": {},
   "outputs": [
    {
     "output_type": "execute_result",
     "data": {
      "text/plain": [
       "  pk_id                      Start (UTC)              Visitor ID  \\\n",
       "0       2021-05-31 13:36:08.708000+00:00  ZkMDk4ZDQ1NjU3MzRhNDVi   \n",
       "1       2021-05-28 17:09:39.202000+00:00  g0ZjdiODlkNGNhMWQ3OWZm   \n",
       "2       2021-05-28 16:48:08.322000+00:00  ViYTQ0MGZhZTM4YmQ2Mjg4   \n",
       "3       2021-05-28 16:47:20.798000+00:00  Y2Mjc4NTFhYzJhYWM3NGIy   \n",
       "4       2021-05-28 16:25:13.367000+00:00  ExMGY3ZThlYTUwMjU3NGMy   \n",
       "\n",
       "            Visitor Name  MCS              Skill  Engagement ID  Agent Name  \\\n",
       "0                  Chris  0.0            General     4296638171      Angela   \n",
       "1                  Donna  0.0  Universal Support     4296637296      Rachel   \n",
       "2  Tom Richard Ssematiko  0.0  Universal Support     4296637292  Bernadette   \n",
       "3          Amy Bresnahan -1.0  Universal Support     4296637289     Nanette   \n",
       "4            Kevin spice  0.0  Universal Support     4296637261         Zoe   \n",
       "\n",
       "                           Agent Login Name   Agent Full Name  ...  \\\n",
       "0       Angelam@citizensadviceeastdevon.org    Angela Mulenga  ...   \n",
       "1       rachelt15@lca.citizensadvice.org.uk    Rachel Tempest  ...   \n",
       "2      bernadetn2@lca.citizensadvice.org.uk  Bernadette Noone  ...   \n",
       "3  nanette.clover@lca.citizensadvice.org.uk    Nanette Clover  ...   \n",
       "4           zoezk@lca.citizensadvice.org.uk       Zoe Kelland  ...   \n",
       "\n",
       "             ISP   Organization       IP Address   Device  \\\n",
       "0             EE             EE      2.28.21.173  DESKTOP   \n",
       "1   Virgin Media   Virgin Media    81.106.31.133   MOBILE   \n",
       "2  Gamma Telecom  Gamma Telecom   51.219.245.210   MOBILE   \n",
       "3             EE             EE  213.205.240.195   MOBILE   \n",
       "4             BT             BT      31.53.21.49   MOBILE   \n",
       "\n",
       "                Browser Operating System  \\\n",
       "0          Firefox 88.0          Windows   \n",
       "1  Chrome 90.0.4430.210          Android   \n",
       "2  Chrome 90.0.4430.210          Android   \n",
       "3           Safari 14.1              iOS   \n",
       "4           Safari 14.1              iOS   \n",
       "\n",
       "                                     Chat Start Page  \\\n",
       "0      Chat with an adviser online - Citizens Advice   \n",
       "1  Going to your Universal Credit interview - Cit...   \n",
       "2  Contact us about applying for Universal Credit...   \n",
       "3  Contact us about applying for Universal Credit...   \n",
       "4  Contact us about applying for Universal Credit...   \n",
       "\n",
       "                                      Chat Start URL Pre-Chat Survey Exists  \\\n",
       "0  https://www.citizensadvice.org.uk/about-us/con...                   True   \n",
       "1  https://www.citizensadvice.org.uk/benefits/uni...                   True   \n",
       "2  https://www.citizensadvice.org.uk/benefits/uni...                   True   \n",
       "3  https://www.citizensadvice.org.uk/about-us/con...                   True   \n",
       "4  https://www.citizensadvice.org.uk/about-us/con...                   True   \n",
       "\n",
       "  Post-Chat Survey Exists  \n",
       "0                   False  \n",
       "1                   False  \n",
       "2                    True  \n",
       "3                   False  \n",
       "4                   False  \n",
       "\n",
       "[5 rows x 31 columns]"
      ],
      "text/html": "<div>\n<style scoped>\n    .dataframe tbody tr th:only-of-type {\n        vertical-align: middle;\n    }\n\n    .dataframe tbody tr th {\n        vertical-align: top;\n    }\n\n    .dataframe thead th {\n        text-align: right;\n    }\n</style>\n<table border=\"1\" class=\"dataframe\">\n  <thead>\n    <tr style=\"text-align: right;\">\n      <th></th>\n      <th>pk_id</th>\n      <th>Start (UTC)</th>\n      <th>Visitor ID</th>\n      <th>Visitor Name</th>\n      <th>MCS</th>\n      <th>Skill</th>\n      <th>Engagement ID</th>\n      <th>Agent Name</th>\n      <th>Agent Login Name</th>\n      <th>Agent Full Name</th>\n      <th>...</th>\n      <th>ISP</th>\n      <th>Organization</th>\n      <th>IP Address</th>\n      <th>Device</th>\n      <th>Browser</th>\n      <th>Operating System</th>\n      <th>Chat Start Page</th>\n      <th>Chat Start URL</th>\n      <th>Pre-Chat Survey Exists</th>\n      <th>Post-Chat Survey Exists</th>\n    </tr>\n  </thead>\n  <tbody>\n    <tr>\n      <th>0</th>\n      <td></td>\n      <td>2021-05-31 13:36:08.708000+00:00</td>\n      <td>ZkMDk4ZDQ1NjU3MzRhNDVi</td>\n      <td>Chris</td>\n      <td>0.0</td>\n      <td>General</td>\n      <td>4296638171</td>\n      <td>Angela</td>\n      <td>Angelam@citizensadviceeastdevon.org</td>\n      <td>Angela Mulenga</td>\n      <td>...</td>\n      <td>EE</td>\n      <td>EE</td>\n      <td>2.28.21.173</td>\n      <td>DESKTOP</td>\n      <td>Firefox 88.0</td>\n      <td>Windows</td>\n      <td>Chat with an adviser online - Citizens Advice</td>\n      <td>https://www.citizensadvice.org.uk/about-us/con...</td>\n      <td>True</td>\n      <td>False</td>\n    </tr>\n    <tr>\n      <th>1</th>\n      <td></td>\n      <td>2021-05-28 17:09:39.202000+00:00</td>\n      <td>g0ZjdiODlkNGNhMWQ3OWZm</td>\n      <td>Donna</td>\n      <td>0.0</td>\n      <td>Universal Support</td>\n      <td>4296637296</td>\n      <td>Rachel</td>\n      <td>rachelt15@lca.citizensadvice.org.uk</td>\n      <td>Rachel Tempest</td>\n      <td>...</td>\n      <td>Virgin Media</td>\n      <td>Virgin Media</td>\n      <td>81.106.31.133</td>\n      <td>MOBILE</td>\n      <td>Chrome 90.0.4430.210</td>\n      <td>Android</td>\n      <td>Going to your Universal Credit interview - Cit...</td>\n      <td>https://www.citizensadvice.org.uk/benefits/uni...</td>\n      <td>True</td>\n      <td>False</td>\n    </tr>\n    <tr>\n      <th>2</th>\n      <td></td>\n      <td>2021-05-28 16:48:08.322000+00:00</td>\n      <td>ViYTQ0MGZhZTM4YmQ2Mjg4</td>\n      <td>Tom Richard Ssematiko</td>\n      <td>0.0</td>\n      <td>Universal Support</td>\n      <td>4296637292</td>\n      <td>Bernadette</td>\n      <td>bernadetn2@lca.citizensadvice.org.uk</td>\n      <td>Bernadette Noone</td>\n      <td>...</td>\n      <td>Gamma Telecom</td>\n      <td>Gamma Telecom</td>\n      <td>51.219.245.210</td>\n      <td>MOBILE</td>\n      <td>Chrome 90.0.4430.210</td>\n      <td>Android</td>\n      <td>Contact us about applying for Universal Credit...</td>\n      <td>https://www.citizensadvice.org.uk/benefits/uni...</td>\n      <td>True</td>\n      <td>True</td>\n    </tr>\n    <tr>\n      <th>3</th>\n      <td></td>\n      <td>2021-05-28 16:47:20.798000+00:00</td>\n      <td>Y2Mjc4NTFhYzJhYWM3NGIy</td>\n      <td>Amy Bresnahan</td>\n      <td>-1.0</td>\n      <td>Universal Support</td>\n      <td>4296637289</td>\n      <td>Nanette</td>\n      <td>nanette.clover@lca.citizensadvice.org.uk</td>\n      <td>Nanette Clover</td>\n      <td>...</td>\n      <td>EE</td>\n      <td>EE</td>\n      <td>213.205.240.195</td>\n      <td>MOBILE</td>\n      <td>Safari 14.1</td>\n      <td>iOS</td>\n      <td>Contact us about applying for Universal Credit...</td>\n      <td>https://www.citizensadvice.org.uk/about-us/con...</td>\n      <td>True</td>\n      <td>False</td>\n    </tr>\n    <tr>\n      <th>4</th>\n      <td></td>\n      <td>2021-05-28 16:25:13.367000+00:00</td>\n      <td>ExMGY3ZThlYTUwMjU3NGMy</td>\n      <td>Kevin spice</td>\n      <td>0.0</td>\n      <td>Universal Support</td>\n      <td>4296637261</td>\n      <td>Zoe</td>\n      <td>zoezk@lca.citizensadvice.org.uk</td>\n      <td>Zoe Kelland</td>\n      <td>...</td>\n      <td>BT</td>\n      <td>BT</td>\n      <td>31.53.21.49</td>\n      <td>MOBILE</td>\n      <td>Safari 14.1</td>\n      <td>iOS</td>\n      <td>Contact us about applying for Universal Credit...</td>\n      <td>https://www.citizensadvice.org.uk/about-us/con...</td>\n      <td>True</td>\n      <td>False</td>\n    </tr>\n  </tbody>\n</table>\n<p>5 rows × 31 columns</p>\n</div>"
     },
     "metadata": {},
     "execution_count": 10
    }
   ],
   "source": [
    "main_ingest.head()"
   ]
  },
  {
   "cell_type": "code",
   "execution_count": 51,
   "metadata": {},
   "outputs": [
    {
     "output_type": "execute_result",
     "data": {
      "text/plain": [
       "     origin           skillgroup_name  \\\n",
       "0      NULL                      Diss   \n",
       "1  Thetford  Diss Thetford & District   \n",
       "2      Diss  Diss Thetford & District   \n",
       "\n",
       "                                member_name   region ops_group member_number  \n",
       "0  Diss Thetford & District Citizens Advice  England   Norfolk       65/0037  \n",
       "1  Diss Thetford & District Citizens Advice  England   Norfolk       65/0037  \n",
       "2  Diss Thetford & District Citizens Advice  England   Norfolk       65/0037  "
      ],
      "text/html": "<div>\n<style scoped>\n    .dataframe tbody tr th:only-of-type {\n        vertical-align: middle;\n    }\n\n    .dataframe tbody tr th {\n        vertical-align: top;\n    }\n\n    .dataframe thead th {\n        text-align: right;\n    }\n</style>\n<table border=\"1\" class=\"dataframe\">\n  <thead>\n    <tr style=\"text-align: right;\">\n      <th></th>\n      <th>origin</th>\n      <th>skillgroup_name</th>\n      <th>member_name</th>\n      <th>region</th>\n      <th>ops_group</th>\n      <th>member_number</th>\n    </tr>\n  </thead>\n  <tbody>\n    <tr>\n      <th>0</th>\n      <td>NULL</td>\n      <td>Diss</td>\n      <td>Diss Thetford &amp; District Citizens Advice</td>\n      <td>England</td>\n      <td>Norfolk</td>\n      <td>65/0037</td>\n    </tr>\n    <tr>\n      <th>1</th>\n      <td>Thetford</td>\n      <td>Diss Thetford &amp; District</td>\n      <td>Diss Thetford &amp; District Citizens Advice</td>\n      <td>England</td>\n      <td>Norfolk</td>\n      <td>65/0037</td>\n    </tr>\n    <tr>\n      <th>2</th>\n      <td>Diss</td>\n      <td>Diss Thetford &amp; District</td>\n      <td>Diss Thetford &amp; District Citizens Advice</td>\n      <td>England</td>\n      <td>Norfolk</td>\n      <td>65/0037</td>\n    </tr>\n  </tbody>\n</table>\n</div>"
     },
     "metadata": {},
     "execution_count": 51
    }
   ],
   "source": [
    "adviceline_origin[adviceline_origin['member_name'].str.contains('Thetford')]"
   ]
  },
  {
   "cell_type": "code",
   "execution_count": 46,
   "metadata": {},
   "outputs": [
    {
     "output_type": "execute_result",
     "data": {
      "text/plain": [
       "          origin           skillgroup_name  \\\n",
       "0           NULL                      Diss   \n",
       "1       Thetford  Diss Thetford & District   \n",
       "2           Diss  Diss Thetford & District   \n",
       "3      Doncaster         Doncaster Borough   \n",
       "4         Thorne         Doncaster Borough   \n",
       "..           ...                       ...   \n",
       "599    Aldershot                  Rushmoor   \n",
       "600    Hampshire                  Rushmoor   \n",
       "601  Farnborough                  Rushmoor   \n",
       "602      Ryedale                   Ryedale   \n",
       "603      Salford                   Salford   \n",
       "\n",
       "                                  member_name   region           ops_group  \\\n",
       "0    Diss Thetford & District Citizens Advice  England             Norfolk   \n",
       "1    Diss Thetford & District Citizens Advice  England             Norfolk   \n",
       "2    Diss Thetford & District Citizens Advice  England             Norfolk   \n",
       "3           Citizens Advice Doncaster Borough  England   Doncaster Borough   \n",
       "4           Citizens Advice Doncaster Borough  England   Doncaster Borough   \n",
       "..                                        ...      ...                 ...   \n",
       "599           Rushmoor Citizens Advice Bureau  England     Single queue 25   \n",
       "600           Rushmoor Citizens Advice Bureau  England     Single queue 25   \n",
       "601           Rushmoor Citizens Advice Bureau  England     Single queue 25   \n",
       "602       Citizens Advice Mid-North Yorkshire  England     Single queue 80   \n",
       "603                   Citizens Advice Salford  England  Greater Manchester   \n",
       "\n",
       "    member_number  \n",
       "0         65/0037  \n",
       "1         65/0037  \n",
       "2         65/0037  \n",
       "3         25/0044  \n",
       "4         25/0044  \n",
       "..            ...  \n",
       "599       85/0029  \n",
       "600       85/0029  \n",
       "601       85/0029  \n",
       "602       25/0028  \n",
       "603       35/0005  \n",
       "\n",
       "[604 rows x 6 columns]"
      ],
      "text/html": "<div>\n<style scoped>\n    .dataframe tbody tr th:only-of-type {\n        vertical-align: middle;\n    }\n\n    .dataframe tbody tr th {\n        vertical-align: top;\n    }\n\n    .dataframe thead th {\n        text-align: right;\n    }\n</style>\n<table border=\"1\" class=\"dataframe\">\n  <thead>\n    <tr style=\"text-align: right;\">\n      <th></th>\n      <th>origin</th>\n      <th>skillgroup_name</th>\n      <th>member_name</th>\n      <th>region</th>\n      <th>ops_group</th>\n      <th>member_number</th>\n    </tr>\n  </thead>\n  <tbody>\n    <tr>\n      <th>0</th>\n      <td>NULL</td>\n      <td>Diss</td>\n      <td>Diss Thetford &amp; District Citizens Advice</td>\n      <td>England</td>\n      <td>Norfolk</td>\n      <td>65/0037</td>\n    </tr>\n    <tr>\n      <th>1</th>\n      <td>Thetford</td>\n      <td>Diss Thetford &amp; District</td>\n      <td>Diss Thetford &amp; District Citizens Advice</td>\n      <td>England</td>\n      <td>Norfolk</td>\n      <td>65/0037</td>\n    </tr>\n    <tr>\n      <th>2</th>\n      <td>Diss</td>\n      <td>Diss Thetford &amp; District</td>\n      <td>Diss Thetford &amp; District Citizens Advice</td>\n      <td>England</td>\n      <td>Norfolk</td>\n      <td>65/0037</td>\n    </tr>\n    <tr>\n      <th>3</th>\n      <td>Doncaster</td>\n      <td>Doncaster Borough</td>\n      <td>Citizens Advice Doncaster Borough</td>\n      <td>England</td>\n      <td>Doncaster Borough</td>\n      <td>25/0044</td>\n    </tr>\n    <tr>\n      <th>4</th>\n      <td>Thorne</td>\n      <td>Doncaster Borough</td>\n      <td>Citizens Advice Doncaster Borough</td>\n      <td>England</td>\n      <td>Doncaster Borough</td>\n      <td>25/0044</td>\n    </tr>\n    <tr>\n      <th>...</th>\n      <td>...</td>\n      <td>...</td>\n      <td>...</td>\n      <td>...</td>\n      <td>...</td>\n      <td>...</td>\n    </tr>\n    <tr>\n      <th>599</th>\n      <td>Aldershot</td>\n      <td>Rushmoor</td>\n      <td>Rushmoor Citizens Advice Bureau</td>\n      <td>England</td>\n      <td>Single queue 25</td>\n      <td>85/0029</td>\n    </tr>\n    <tr>\n      <th>600</th>\n      <td>Hampshire</td>\n      <td>Rushmoor</td>\n      <td>Rushmoor Citizens Advice Bureau</td>\n      <td>England</td>\n      <td>Single queue 25</td>\n      <td>85/0029</td>\n    </tr>\n    <tr>\n      <th>601</th>\n      <td>Farnborough</td>\n      <td>Rushmoor</td>\n      <td>Rushmoor Citizens Advice Bureau</td>\n      <td>England</td>\n      <td>Single queue 25</td>\n      <td>85/0029</td>\n    </tr>\n    <tr>\n      <th>602</th>\n      <td>Ryedale</td>\n      <td>Ryedale</td>\n      <td>Citizens Advice Mid-North Yorkshire</td>\n      <td>England</td>\n      <td>Single queue 80</td>\n      <td>25/0028</td>\n    </tr>\n    <tr>\n      <th>603</th>\n      <td>Salford</td>\n      <td>Salford</td>\n      <td>Citizens Advice Salford</td>\n      <td>England</td>\n      <td>Greater Manchester</td>\n      <td>35/0005</td>\n    </tr>\n  </tbody>\n</table>\n<p>604 rows × 6 columns</p>\n</div>"
     },
     "metadata": {},
     "execution_count": 46
    }
   ],
   "source": [
    "adviceline_origin"
   ]
  },
  {
   "cell_type": "code",
   "execution_count": null,
   "metadata": {},
   "outputs": [],
   "source": []
  }
 ]
}