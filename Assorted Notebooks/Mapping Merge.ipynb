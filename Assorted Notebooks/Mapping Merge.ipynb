{
 "metadata": {
  "language_info": {
   "codemirror_mode": {
    "name": "ipython",
    "version": 3
   },
   "file_extension": ".py",
   "mimetype": "text/x-python",
   "name": "python",
   "nbconvert_exporter": "python",
   "pygments_lexer": "ipython3",
   "version": "3.8.3"
  },
  "orig_nbformat": 4,
  "kernelspec": {
   "name": "python3",
   "display_name": "Python 3.8.3 64-bit ('venv': venv)"
  },
  "interpreter": {
   "hash": "cab7bfe12d3bddcecdf1adadffe595ae2362a968aa30b7cac1e46ce62df3564f"
  }
 },
 "nbformat": 4,
 "nbformat_minor": 2,
 "cells": [
  {
   "cell_type": "code",
   "execution_count": 1,
   "metadata": {},
   "outputs": [
    {
     "output_type": "stream",
     "name": "stderr",
     "text": [
      "c:\\Users\\jonathan.li\\Desktop\\Chat Ingest\\venv\\lib\\site-packages\\fuzzywuzzy\\fuzz.py:11: UserWarning: Using slow pure-python SequenceMatcher. Install python-Levenshtein to remove this warning\n  warnings.warn('Using slow pure-python SequenceMatcher. Install python-Levenshtein to remove this warning')\n"
     ]
    }
   ],
   "source": [
    "import pandas as pd\n",
    "import json\n",
    "import _load_utils\n",
    "import _sql_access_utils\n",
    "from fuzzywuzzy import fuzz\n",
    "import re\n",
    "\n",
    "#df = pd.read_csv('may-2021-export.csv', skiprows=8)\n",
    "#print(df.size)"
   ]
  },
  {
   "cell_type": "code",
   "execution_count": 18,
   "metadata": {},
   "outputs": [],
   "source": [
    "lookup = _sql_access_utils.get_table_as_dataframe('dim_AL_chat_email_phone_lookup')\n",
    "call_origin_new = _sql_access_utils.get_table_as_dataframe('dim_actual_lca_lookup', table_prefix = 'dbo', header=True, database = 'kcom_data')\n",
    "wales = _sql_access_utils.get_table_as_dataframe('dim_actual_lca_lookup_wales', table_prefix = 'dbo', header=True, database = 'kcom_data')"
   ]
  },
  {
   "cell_type": "code",
   "execution_count": 19,
   "metadata": {},
   "outputs": [
    {
     "output_type": "execute_result",
     "data": {
      "text/plain": [
       "['Citizens Advice Buckinghamshire',\n",
       " 'Citizens Advice East Berkshire',\n",
       " 'Citizens Advice in East Dorset and Purbeck',\n",
       " 'Greater Manchester (CAGM)',\n",
       " 'Guernsey Citizens Advice Bureau',\n",
       " 'Jersey Citizens Advice Bureau',\n",
       " 'Citizens Advice Leicestershire',\n",
       " 'Citizens Advice SORT Group',\n",
       " 'Surrey Welfare Rights Unit']"
      ]
     },
     "metadata": {},
     "execution_count": 19
    }
   ],
   "source": [
    "# Get all the LCAs up until the Consortias from the Contact Details Mapping sheet.\n",
    "df = _load_utils.get_dataframe_from_folder('./Contact Details Mapping', header=0, skiprows=1, sep='\\t')\n",
    "consortia_index = df[df['RD Name'] == 'Consortia'].iloc[0].name\n",
    "df = df.drop(df.index[consortia_index-1:])\n",
    "contact_details_list =  df['RD Name'].to_list()\n",
    "contact_details_list = [x.replace(',','').strip() for x in contact_details_list]\n",
    "dim_call_origin_new_list = call_origin_new['lca'].to_list() + wales['lca'].to_list()\n",
    "lookup_list = lookup['lca'].to_list()\n",
    "\n",
    "# LCAs in the mapping list that aren't in contact details live.\n",
    "[x for x in lookup_list if x  not in contact_details_list]\n",
    "\n",
    "# LCAs in contact details live that aren't in the mapping list.\n",
    "[x for x in contact_details_list if (x not in lookup_list)]\n",
    "\n"
   ]
  },
  {
   "cell_type": "code",
   "execution_count": 81,
   "metadata": {},
   "outputs": [
    {
     "output_type": "execute_result",
     "data": {
      "text/plain": [
       "{'Admin account',\n",
       " 'AshfieldDebt',\n",
       " 'Bracknell Citizens Advice',\n",
       " 'Caerphilly Remote Service',\n",
       " 'Cardiff Remote Service',\n",
       " 'Chiltern Citizens Advice Bureau Ltd',\n",
       " 'Citizens Advice Aylesbury Vale',\n",
       " 'Citizens Advice Darlington',\n",
       " 'Citizens Advice High Wycombe',\n",
       " 'Citizens Advice Leicestershire',\n",
       " 'Citizens Advice Maidenhead and Windsor',\n",
       " 'Dudley District Citizens Advice Bureau',\n",
       " 'East Dorset Citizens Advice',\n",
       " 'Exclude: DudleyFood',\n",
       " 'Flintshire (Specialist)',\n",
       " 'Gwent Service',\n",
       " 'Gwent service',\n",
       " 'Ignore: Bhamdebt',\n",
       " 'Ignore: Bhammac',\n",
       " 'Liverpool Debt',\n",
       " 'Manchester (National overflow)',\n",
       " 'Nottinghamshire Debt',\n",
       " 'Ops Team',\n",
       " 'Pennine West Citizens Advice',\n",
       " 'Purbeck Citizens Advice',\n",
       " 'Specialist Provider Caerphilly',\n",
       " 'Specialist Provider Gateshead',\n",
       " 'Stockport District Citizens Advice Bureau',\n",
       " 'Testing',\n",
       " 'Unknown: DudleyFood'}"
      ]
     },
     "metadata": {},
     "execution_count": 81
    }
   ],
   "source": [
    "special_lcas = set([x for x in dim_call_origin_new_list if x  not in lookup_list])\n",
    "special_lcas"
   ]
  },
  {
   "cell_type": "code",
   "execution_count": 57,
   "metadata": {},
   "outputs": [
    {
     "output_type": "execute_result",
     "data": {
      "text/plain": [
       "['Citizens Advice Walsall',\n",
       " 'CLOSED',\n",
       " 'lca',\n",
       " 'Caerphilly National Backup Centre',\n",
       " 'n/a',\n",
       " 'Gateshead National Backup Centre']"
      ]
     },
     "metadata": {},
     "execution_count": 57
    }
   ],
   "source": []
  },
  {
   "cell_type": "code",
   "execution_count": 46,
   "metadata": {},
   "outputs": [
    {
     "output_type": "execute_result",
     "data": {
      "text/plain": [
       "          origin           skillgroup_name  \\\n",
       "0           NULL                      Diss   \n",
       "1       Thetford  Diss Thetford & District   \n",
       "2           Diss  Diss Thetford & District   \n",
       "3      Doncaster         Doncaster Borough   \n",
       "4         Thorne         Doncaster Borough   \n",
       "..           ...                       ...   \n",
       "599    Aldershot                  Rushmoor   \n",
       "600    Hampshire                  Rushmoor   \n",
       "601  Farnborough                  Rushmoor   \n",
       "602      Ryedale                   Ryedale   \n",
       "603      Salford                   Salford   \n",
       "\n",
       "                                  member_name   region           ops_group  \\\n",
       "0    Diss Thetford & District Citizens Advice  England             Norfolk   \n",
       "1    Diss Thetford & District Citizens Advice  England             Norfolk   \n",
       "2    Diss Thetford & District Citizens Advice  England             Norfolk   \n",
       "3           Citizens Advice Doncaster Borough  England   Doncaster Borough   \n",
       "4           Citizens Advice Doncaster Borough  England   Doncaster Borough   \n",
       "..                                        ...      ...                 ...   \n",
       "599           Rushmoor Citizens Advice Bureau  England     Single queue 25   \n",
       "600           Rushmoor Citizens Advice Bureau  England     Single queue 25   \n",
       "601           Rushmoor Citizens Advice Bureau  England     Single queue 25   \n",
       "602       Citizens Advice Mid-North Yorkshire  England     Single queue 80   \n",
       "603                   Citizens Advice Salford  England  Greater Manchester   \n",
       "\n",
       "    member_number  \n",
       "0         65/0037  \n",
       "1         65/0037  \n",
       "2         65/0037  \n",
       "3         25/0044  \n",
       "4         25/0044  \n",
       "..            ...  \n",
       "599       85/0029  \n",
       "600       85/0029  \n",
       "601       85/0029  \n",
       "602       25/0028  \n",
       "603       35/0005  \n",
       "\n",
       "[604 rows x 6 columns]"
      ],
      "text/html": "<div>\n<style scoped>\n    .dataframe tbody tr th:only-of-type {\n        vertical-align: middle;\n    }\n\n    .dataframe tbody tr th {\n        vertical-align: top;\n    }\n\n    .dataframe thead th {\n        text-align: right;\n    }\n</style>\n<table border=\"1\" class=\"dataframe\">\n  <thead>\n    <tr style=\"text-align: right;\">\n      <th></th>\n      <th>origin</th>\n      <th>skillgroup_name</th>\n      <th>member_name</th>\n      <th>region</th>\n      <th>ops_group</th>\n      <th>member_number</th>\n    </tr>\n  </thead>\n  <tbody>\n    <tr>\n      <th>0</th>\n      <td>NULL</td>\n      <td>Diss</td>\n      <td>Diss Thetford &amp; District Citizens Advice</td>\n      <td>England</td>\n      <td>Norfolk</td>\n      <td>65/0037</td>\n    </tr>\n    <tr>\n      <th>1</th>\n      <td>Thetford</td>\n      <td>Diss Thetford &amp; District</td>\n      <td>Diss Thetford &amp; District Citizens Advice</td>\n      <td>England</td>\n      <td>Norfolk</td>\n      <td>65/0037</td>\n    </tr>\n    <tr>\n      <th>2</th>\n      <td>Diss</td>\n      <td>Diss Thetford &amp; District</td>\n      <td>Diss Thetford &amp; District Citizens Advice</td>\n      <td>England</td>\n      <td>Norfolk</td>\n      <td>65/0037</td>\n    </tr>\n    <tr>\n      <th>3</th>\n      <td>Doncaster</td>\n      <td>Doncaster Borough</td>\n      <td>Citizens Advice Doncaster Borough</td>\n      <td>England</td>\n      <td>Doncaster Borough</td>\n      <td>25/0044</td>\n    </tr>\n    <tr>\n      <th>4</th>\n      <td>Thorne</td>\n      <td>Doncaster Borough</td>\n      <td>Citizens Advice Doncaster Borough</td>\n      <td>England</td>\n      <td>Doncaster Borough</td>\n      <td>25/0044</td>\n    </tr>\n    <tr>\n      <th>...</th>\n      <td>...</td>\n      <td>...</td>\n      <td>...</td>\n      <td>...</td>\n      <td>...</td>\n      <td>...</td>\n    </tr>\n    <tr>\n      <th>599</th>\n      <td>Aldershot</td>\n      <td>Rushmoor</td>\n      <td>Rushmoor Citizens Advice Bureau</td>\n      <td>England</td>\n      <td>Single queue 25</td>\n      <td>85/0029</td>\n    </tr>\n    <tr>\n      <th>600</th>\n      <td>Hampshire</td>\n      <td>Rushmoor</td>\n      <td>Rushmoor Citizens Advice Bureau</td>\n      <td>England</td>\n      <td>Single queue 25</td>\n      <td>85/0029</td>\n    </tr>\n    <tr>\n      <th>601</th>\n      <td>Farnborough</td>\n      <td>Rushmoor</td>\n      <td>Rushmoor Citizens Advice Bureau</td>\n      <td>England</td>\n      <td>Single queue 25</td>\n      <td>85/0029</td>\n    </tr>\n    <tr>\n      <th>602</th>\n      <td>Ryedale</td>\n      <td>Ryedale</td>\n      <td>Citizens Advice Mid-North Yorkshire</td>\n      <td>England</td>\n      <td>Single queue 80</td>\n      <td>25/0028</td>\n    </tr>\n    <tr>\n      <th>603</th>\n      <td>Salford</td>\n      <td>Salford</td>\n      <td>Citizens Advice Salford</td>\n      <td>England</td>\n      <td>Greater Manchester</td>\n      <td>35/0005</td>\n    </tr>\n  </tbody>\n</table>\n<p>604 rows × 6 columns</p>\n</div>"
     },
     "metadata": {},
     "execution_count": 46
    }
   ],
   "source": [
    "call_origin_new"
   ]
  },
  {
   "cell_type": "code",
   "execution_count": 7,
   "metadata": {},
   "outputs": [
    {
     "output_type": "execute_result",
     "data": {
      "text/plain": [
       "'Leicestershire Line Chicken)'"
      ]
     },
     "metadata": {},
     "execution_count": 7
    }
   ],
   "source": [
    "'Leicestershire Line Chicken)'.split('(')[0].strip()"
   ]
  },
  {
   "cell_type": "code",
   "execution_count": null,
   "metadata": {},
   "outputs": [],
   "source": []
  }
 ]
}